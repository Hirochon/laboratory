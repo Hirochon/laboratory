{
 "cells": [
  {
   "cell_type": "code",
   "execution_count": 1,
   "metadata": {},
   "outputs": [],
   "source": [
    "import numpy as np\n",
    "import pandas as pd\n",
    "import matplotlib.pyplot as plt\n",
    "%matplotlib inline"
   ]
  },
  {
   "cell_type": "code",
   "execution_count": 2,
   "metadata": {},
   "outputs": [],
   "source": [
    "ellipse_formula = lambda a, elip_len: a**2 / elip_len**2"
   ]
  },
  {
   "cell_type": "code",
   "execution_count": 3,
   "metadata": {},
   "outputs": [],
   "source": [
    "def make_elip_spot_mirror(elip_len_x, elip_len_y, coor_x, coor_y, axis_x=100, axis_y=100):\n",
    "    \n",
    "    elip_spot_mirror = np.zeros([axis_x, axis_y])\n",
    "    \n",
    "    theta = np.pi*np.random.rand()*2\n",
    "    rotate = np.array([[np.cos(theta),np.sin(theta)],[-np.sin(theta), np.cos(theta)]])\n",
    "    \n",
    "    for j in range(axis_y):\n",
    "        for i in range(axis_x):\n",
    "            y = j + 1\n",
    "            x = i + 1\n",
    "            \n",
    "            [X, Y] = np.dot([x-coor_x, y-coor_y], rotate)\n",
    "            \n",
    "            x_formula = ellipse_formula(X, elip_len_x)\n",
    "            y_formula = ellipse_formula(Y, elip_len_y)\n",
    "            \n",
    "            if x_formula + y_formula <= 1:\n",
    "                elip_spot_mirror[j,i] += 1\n",
    "    \n",
    "    return elip_spot_mirror"
   ]
  },
  {
   "cell_type": "code",
   "execution_count": 4,
   "metadata": {},
   "outputs": [],
   "source": [
    "n = 1\n",
    "axis_x = 100\n",
    "axis_y = 100\n",
    "dat = np.zeros([axis_x,axis_y])\n",
    "param_list = [np.array([20,30,30,30])]"
   ]
  },
  {
   "cell_type": "code",
   "execution_count": 5,
   "metadata": {},
   "outputs": [],
   "source": [
    "assert len(param_list) == n"
   ]
  },
  {
   "cell_type": "code",
   "execution_count": 6,
   "metadata": {},
   "outputs": [],
   "source": [
    "for elip_len_x, elip_len_y, coor_x, coor_y in param_list:\n",
    "    dat += make_elip_spot_mirror(elip_len_x, elip_len_y, coor_x, coor_y, axis_x, axis_y)"
   ]
  },
  {
   "cell_type": "code",
   "execution_count": 7,
   "metadata": {},
   "outputs": [
    {
     "data": {
      "text/plain": [
       "<matplotlib.image.AxesImage at 0x7f081ab1fd90>"
      ]
     },
     "execution_count": 7,
     "metadata": {},
     "output_type": "execute_result"
    },
    {
     "data": {
      "image/png": "[encoded data removed]",
      "text/plain": [
       "<Figure size 432x288 with 1 Axes>"
      ]
     },
     "metadata": {
      "needs_background": "light"
     },
     "output_type": "display_data"
    }
   ],
   "source": [
    "plt.figure()\n",
    "plt.imshow(dat)"
   ]
  },
  {
   "cell_type": "code",
   "execution_count": 8,
   "metadata": {},
   "outputs": [],
   "source": [
    "for elip_len_x, elip_len_y, coor_x, coor_y in param_list:\n",
    "    dat += make_elip_spot_mirror(elip_len_x, elip_len_y, coor_x, coor_y, axis_x, axis_y)"
   ]
  },
  {
   "cell_type": "code",
   "execution_count": 9,
   "metadata": {},
   "outputs": [
    {
     "data": {
      "text/plain": [
       "<matplotlib.image.AxesImage at 0x7f081aabb090>"
      ]
     },
     "execution_count": 9,
     "metadata": {},
     "output_type": "execute_result"
    },
    {
     "data": {
      "image/png": "[encoded data removed]",
      "text/plain": [
       "<Figure size 432x288 with 1 Axes>"
      ]
     },
     "metadata": {
      "needs_background": "light"
     },
     "output_type": "display_data"
    }
   ],
   "source": [
    "plt.figure()\n",
    "plt.imshow(dat)"
   ]
  },
  {
   "cell_type": "code",
   "execution_count": 10,
   "metadata": {},
   "outputs": [],
   "source": [
    "for elip_len_x, elip_len_y, coor_x, coor_y in param_list:\n",
    "    dat += make_elip_spot_mirror(elip_len_x, elip_len_y, coor_x, coor_y, axis_x, axis_y)"
   ]
  },
  {
   "cell_type": "code",
   "execution_count": 11,
   "metadata": {},
   "outputs": [
    {
     "data": {
      "text/plain": [
       "<matplotlib.image.AxesImage at 0x7f081aa2d190>"
      ]
     },
     "execution_count": 11,
     "metadata": {},
     "output_type": "execute_result"
    },
    {
     "data": {
      "image/png": "[encoded data removed]",
      "text/plain": [
       "<Figure size 432x288 with 1 Axes>"
      ]
     },
     "metadata": {
      "needs_background": "light"
     },
     "output_type": "display_data"
    }
   ],
   "source": [
    "plt.figure()\n",
    "plt.imshow(dat)"
   ]
  },
  {
   "cell_type": "code",
   "execution_count": null,
   "metadata": {},
   "outputs": [],
   "source": []
  }
 ],
 "metadata": {
  "kernelspec": {
   "display_name": "Python 3",
   "language": "python",
   "name": "python3"
  },
  "language_info": {
   "codemirror_mode": {
    "name": "ipython",
    "version": 3
   },
   "file_extension": ".py",
   "mimetype": "text/x-python",
   "name": "python",
   "nbconvert_exporter": "python",
   "pygments_lexer": "ipython3",
   "version": "3.7.6"
  }
 },
 "nbformat": 4,
 "nbformat_minor": 4
}
