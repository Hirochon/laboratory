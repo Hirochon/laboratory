{
 "cells": [
  {
   "cell_type": "code",
   "execution_count": 1,
   "metadata": {},
   "outputs": [],
   "source": [
    "import numpy as np\n",
    "import matplotlib.pyplot as plt\n",
    "import pickle\n",
    "%matplotlib inline"
   ]
  },
  {
   "cell_type": "code",
   "execution_count": 2,
   "metadata": {},
   "outputs": [],
   "source": [
    "with open('../research/result/2020_0911_021615_first_commit/pkl_surf_train.pkl', 'rb') as f:\n",
    "    train_surf = pickle.load(f)\n",
    "    \n",
    "with open('../research/result/2020_0911_021615_first_commit/pkl_surf_test.pkl', 'rb') as f:\n",
    "    test_surf = pickle.load(f)"
   ]
  },
  {
   "cell_type": "code",
   "execution_count": 11,
   "metadata": {},
   "outputs": [
    {
     "data": {
      "text/plain": [
       "[{'x': array([[-50.        , -50.        , -50.        , ..., -50.        ,\n",
       "          -50.        , -50.        ],\n",
       "         [-48.98989899, -48.98989899, -48.98989899, ..., -48.98989899,\n",
       "          -48.98989899, -48.98989899],\n",
       "         [-47.97979798, -47.97979798, -47.97979798, ..., -47.97979798,\n",
       "          -47.97979798, -47.97979798],\n",
       "         ...,\n",
       "         [ 47.97979798,  47.97979798,  47.97979798, ...,  47.97979798,\n",
       "           47.97979798,  47.97979798],\n",
       "         [ 48.98989899,  48.98989899,  48.98989899, ...,  48.98989899,\n",
       "           48.98989899,  48.98989899],\n",
       "         [ 50.        ,  50.        ,  50.        , ...,  50.        ,\n",
       "           50.        ,  50.        ]]),\n",
       "  'y': array([[-50.        , -48.98989899, -47.97979798, ...,  47.97979798,\n",
       "           48.98989899,  50.        ],\n",
       "         [-50.        , -48.98989899, -47.97979798, ...,  47.97979798,\n",
       "           48.98989899,  50.        ],\n",
       "         [-50.        , -48.98989899, -47.97979798, ...,  47.97979798,\n",
       "           48.98989899,  50.        ],\n",
       "         ...,\n",
       "         [-50.        , -48.98989899, -47.97979798, ...,  47.97979798,\n",
       "           48.98989899,  50.        ],\n",
       "         [-50.        , -48.98989899, -47.97979798, ...,  47.97979798,\n",
       "           48.98989899,  50.        ],\n",
       "         [-50.        , -48.98989899, -47.97979798, ...,  47.97979798,\n",
       "           48.98989899,  50.        ]]),\n",
       "  'z': array([[1., 1., 1., ..., 1., 1., 1.],\n",
       "         [1., 1., 1., ..., 1., 1., 1.],\n",
       "         [1., 1., 1., ..., 1., 1., 1.],\n",
       "         ...,\n",
       "         [1., 1., 1., ..., 1., 1., 1.],\n",
       "         [1., 1., 1., ..., 1., 1., 1.],\n",
       "         [1., 1., 1., ..., 1., 1., 1.]]),\n",
       "  'elip_len_x_list': array([40., 99.]),\n",
       "  'elip_len_y_list': array([61., 68.]),\n",
       "  'coord_x_list': array([66., 31.]),\n",
       "  'coord_y_list': array([94., 41.]),\n",
       "  'theta_list': array([3.30720179, 0.02941935]),\n",
       "  'axis_x': 100,\n",
       "  'axis_y': 100,\n",
       "  'ellipse_num': 2,\n",
       "  'nx': 100,\n",
       "  'ny': 100},\n",
       " {'x': array([[-50.        , -50.        , -50.        , ..., -50.        ,\n",
       "          -50.        , -50.        ],\n",
       "         [-48.98989899, -48.98989899, -48.98989899, ..., -48.98989899,\n",
       "          -48.98989899, -48.98989899],\n",
       "         [-47.97979798, -47.97979798, -47.97979798, ..., -47.97979798,\n",
       "          -47.97979798, -47.97979798],\n",
       "         ...,\n",
       "         [ 47.97979798,  47.97979798,  47.97979798, ...,  47.97979798,\n",
       "           47.97979798,  47.97979798],\n",
       "         [ 48.98989899,  48.98989899,  48.98989899, ...,  48.98989899,\n",
       "           48.98989899,  48.98989899],\n",
       "         [ 50.        ,  50.        ,  50.        , ...,  50.        ,\n",
       "           50.        ,  50.        ]]),\n",
       "  'y': array([[-50.        , -48.98989899, -47.97979798, ...,  47.97979798,\n",
       "           48.98989899,  50.        ],\n",
       "         [-50.        , -48.98989899, -47.97979798, ...,  47.97979798,\n",
       "           48.98989899,  50.        ],\n",
       "         [-50.        , -48.98989899, -47.97979798, ...,  47.97979798,\n",
       "           48.98989899,  50.        ],\n",
       "         ...,\n",
       "         [-50.        , -48.98989899, -47.97979798, ...,  47.97979798,\n",
       "           48.98989899,  50.        ],\n",
       "         [-50.        , -48.98989899, -47.97979798, ...,  47.97979798,\n",
       "           48.98989899,  50.        ],\n",
       "         [-50.        , -48.98989899, -47.97979798, ...,  47.97979798,\n",
       "           48.98989899,  50.        ]]),\n",
       "  'z': array([[1., 1., 1., ..., 0., 0., 0.],\n",
       "         [1., 1., 1., ..., 0., 0., 0.],\n",
       "         [1., 1., 1., ..., 0., 0., 0.],\n",
       "         ...,\n",
       "         [2., 2., 2., ..., 1., 1., 1.],\n",
       "         [2., 2., 2., ..., 1., 1., 1.],\n",
       "         [2., 2., 2., ..., 1., 1., 1.]]),\n",
       "  'elip_len_x_list': array([46.,  8., 83., 28., 94.]),\n",
       "  'elip_len_y_list': array([45., 49., 54., 32.,  8.]),\n",
       "  'coord_x_list': array([43., 68., 60., 16., 19.]),\n",
       "  'coord_y_list': array([19., 39., 73., 83., 39.]),\n",
       "  'theta_list': array([2.48481228, 5.08440691, 2.90580465, 5.39911081, 2.28967547]),\n",
       "  'axis_x': 100,\n",
       "  'axis_y': 100,\n",
       "  'ellipse_num': 5,\n",
       "  'nx': 100,\n",
       "  'ny': 100},\n",
       " {'x': array([[-50.        , -50.        , -50.        , ..., -50.        ,\n",
       "          -50.        , -50.        ],\n",
       "         [-48.98989899, -48.98989899, -48.98989899, ..., -48.98989899,\n",
       "          -48.98989899, -48.98989899],\n",
       "         [-47.97979798, -47.97979798, -47.97979798, ..., -47.97979798,\n",
       "          -47.97979798, -47.97979798],\n",
       "         ...,\n",
       "         [ 47.97979798,  47.97979798,  47.97979798, ...,  47.97979798,\n",
       "           47.97979798,  47.97979798],\n",
       "         [ 48.98989899,  48.98989899,  48.98989899, ...,  48.98989899,\n",
       "           48.98989899,  48.98989899],\n",
       "         [ 50.        ,  50.        ,  50.        , ...,  50.        ,\n",
       "           50.        ,  50.        ]]),\n",
       "  'y': array([[-50.        , -48.98989899, -47.97979798, ...,  47.97979798,\n",
       "           48.98989899,  50.        ],\n",
       "         [-50.        , -48.98989899, -47.97979798, ...,  47.97979798,\n",
       "           48.98989899,  50.        ],\n",
       "         [-50.        , -48.98989899, -47.97979798, ...,  47.97979798,\n",
       "           48.98989899,  50.        ],\n",
       "         ...,\n",
       "         [-50.        , -48.98989899, -47.97979798, ...,  47.97979798,\n",
       "           48.98989899,  50.        ],\n",
       "         [-50.        , -48.98989899, -47.97979798, ...,  47.97979798,\n",
       "           48.98989899,  50.        ],\n",
       "         [-50.        , -48.98989899, -47.97979798, ...,  47.97979798,\n",
       "           48.98989899,  50.        ]]),\n",
       "  'z': array([[1., 1., 1., ..., 2., 2., 2.],\n",
       "         [1., 1., 1., ..., 2., 2., 2.],\n",
       "         [1., 1., 1., ..., 2., 2., 2.],\n",
       "         ...,\n",
       "         [1., 1., 1., ..., 1., 1., 1.],\n",
       "         [1., 1., 1., ..., 1., 1., 1.],\n",
       "         [1., 1., 1., ..., 1., 1., 1.]]),\n",
       "  'elip_len_x_list': array([99., 94., 11., 94., 47., 48., 36.]),\n",
       "  'elip_len_y_list': array([61., 32., 83., 53., 78., 42., 51.]),\n",
       "  'coord_x_list': array([90., 66., 78., 27., 38., 53., 51.]),\n",
       "  'coord_y_list': array([21., 38.,  1., 24., 58., 60., 19.]),\n",
       "  'theta_list': array([5.09825489, 4.17991757, 0.67743833, 5.40262496, 2.46268266,\n",
       "         2.71212164, 1.40336201]),\n",
       "  'axis_x': 100,\n",
       "  'axis_y': 100,\n",
       "  'ellipse_num': 7,\n",
       "  'nx': 100,\n",
       "  'ny': 100},\n",
       " {'x': array([[-50.        , -50.        , -50.        , ..., -50.        ,\n",
       "          -50.        , -50.        ],\n",
       "         [-48.98989899, -48.98989899, -48.98989899, ..., -48.98989899,\n",
       "          -48.98989899, -48.98989899],\n",
       "         [-47.97979798, -47.97979798, -47.97979798, ..., -47.97979798,\n",
       "          -47.97979798, -47.97979798],\n",
       "         ...,\n",
       "         [ 47.97979798,  47.97979798,  47.97979798, ...,  47.97979798,\n",
       "           47.97979798,  47.97979798],\n",
       "         [ 48.98989899,  48.98989899,  48.98989899, ...,  48.98989899,\n",
       "           48.98989899,  48.98989899],\n",
       "         [ 50.        ,  50.        ,  50.        , ...,  50.        ,\n",
       "           50.        ,  50.        ]]),\n",
       "  'y': array([[-50.        , -48.98989899, -47.97979798, ...,  47.97979798,\n",
       "           48.98989899,  50.        ],\n",
       "         [-50.        , -48.98989899, -47.97979798, ...,  47.97979798,\n",
       "           48.98989899,  50.        ],\n",
       "         [-50.        , -48.98989899, -47.97979798, ...,  47.97979798,\n",
       "           48.98989899,  50.        ],\n",
       "         ...,\n",
       "         [-50.        , -48.98989899, -47.97979798, ...,  47.97979798,\n",
       "           48.98989899,  50.        ],\n",
       "         [-50.        , -48.98989899, -47.97979798, ...,  47.97979798,\n",
       "           48.98989899,  50.        ],\n",
       "         [-50.        , -48.98989899, -47.97979798, ...,  47.97979798,\n",
       "           48.98989899,  50.        ]]),\n",
       "  'z': array([[1., 1., 1., ..., 0., 0., 0.],\n",
       "         [1., 1., 1., ..., 0., 0., 0.],\n",
       "         [1., 1., 1., ..., 0., 0., 0.],\n",
       "         ...,\n",
       "         [1., 1., 1., ..., 1., 1., 1.],\n",
       "         [0., 0., 1., ..., 1., 1., 1.],\n",
       "         [0., 0., 0., ..., 1., 1., 1.]]),\n",
       "  'elip_len_x_list': array([87., 75.]),\n",
       "  'elip_len_y_list': array([63., 61.]),\n",
       "  'coord_x_list': array([ 8., 85.]),\n",
       "  'coord_y_list': array([27., 70.]),\n",
       "  'theta_list': array([2.28088206, 5.39271921]),\n",
       "  'axis_x': 100,\n",
       "  'axis_y': 100,\n",
       "  'ellipse_num': 2,\n",
       "  'nx': 100,\n",
       "  'ny': 100}]"
      ]
     },
     "execution_count": 11,
     "metadata": {},
     "output_type": "execute_result"
    }
   ],
   "source": [
    "test_surf"
   ]
  },
  {
   "cell_type": "code",
   "execution_count": 9,
   "metadata": {
    "scrolled": false
   },
   "outputs": [
    {
     "name": "stdout",
     "output_type": "stream",
     "text": [
      "train data\n"
     ]
    },
    {
     "data": {
      "image/png": "[encoded data removed]",
      "text/plain": [
       "<Figure size 1080x1080 with 9 Axes>"
      ]
     },
     "metadata": {
      "needs_background": "light"
     },
     "output_type": "display_data"
    },
    {
     "name": "stdout",
     "output_type": "stream",
     "text": [
      "\n",
      "\n",
      "\n",
      "test data\n"
     ]
    },
    {
     "data": {
      "image/png": "[encoded data removed]",
      "text/plain": [
       "<Figure size 1080x1080 with 3 Axes>"
      ]
     },
     "metadata": {
      "needs_background": "light"
     },
     "output_type": "display_data"
    }
   ],
   "source": [
    "roop = ['x', 'y', 'z']\n",
    "\n",
    "print(\"train data\")\n",
    "\n",
    "fig = plt.figure(figsize=(15,15))\n",
    "for j in range(9):\n",
    "    fig.add_subplot(3,3,j+1)\n",
    "    plt.imshow(train_surf[j][roop[2]])\n",
    "plt.show()\n",
    "\n",
    "print(\"\\n\\n\")\n",
    "print(\"test data\")\n",
    "fig = plt.figure(figsize=(15,15))\n",
    "for j in range(3):\n",
    "    fig.add_subplot(1,3,j+1)\n",
    "    plt.imshow(test_surf[j][roop[2]])\n",
    "plt.show()"
   ]
  },
  {
   "cell_type": "code",
   "execution_count": null,
   "metadata": {},
   "outputs": [],
   "source": []
  }
 ],
 "metadata": {
  "kernelspec": {
   "display_name": "Python 3",
   "language": "python",
   "name": "python3"
  },
  "language_info": {
   "codemirror_mode": {
    "name": "ipython",
    "version": 3
   },
   "file_extension": ".py",
   "mimetype": "text/x-python",
   "name": "python",
   "nbconvert_exporter": "python",
   "pygments_lexer": "ipython3",
   "version": "3.7.6"
  }
 },
 "nbformat": 4,
 "nbformat_minor": 4
}
