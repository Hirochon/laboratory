{
  "nbformat": 4,
  "nbformat_minor": 0,
  "metadata": {
    "colab": {
      "name": "main_gpu.ipynb",
      "provenance": [],
      "collapsed_sections": []
    },
    "kernelspec": {
      "name": "python3",
      "display_name": "Python 3"
    },
    "accelerator": "GPU"
  },
  "cells": [
    {
      "cell_type": "code",
      "metadata": {
        "id": "fOEEmIImbGT1",
        "outputId": "b0a97f33-83a3-4c7f-f057-ec7313586281",
        "colab": {
          "base_uri": "https://localhost:8080/",
          "height": 35
        }
      },
      "source": [
        "import tensorflow as tf\n",
        "tf.test.gpu_device_name()"
      ],
      "execution_count": 27,
      "outputs": [
        {
          "output_type": "execute_result",
          "data": {
            "application/vnd.google.colaboratory.intrinsic+json": {
              "type": "string"
            },
            "text/plain": [
              "'/device:GPU:0'"
            ]
          },
          "metadata": {
            "tags": []
          },
          "execution_count": 27
        }
      ]
    },
    {
      "cell_type": "code",
      "metadata": {
        "id": "0EkAmvJtBamb",
        "outputId": "4ef1a136-ed63-4721-975f-70c0cbcac3a1",
        "colab": {
          "base_uri": "https://localhost:8080/",
          "height": 52
        }
      },
      "source": [
        "cd drive/My Drive/kogaken/mlphase"
      ],
      "execution_count": 28,
      "outputs": [
        {
          "output_type": "stream",
          "text": [
            "[Errno 2] No such file or directory: 'drive/My Drive/kogaken/mlphase'\n",
            "/content/drive/My Drive/kogaken/mlphase\n"
          ],
          "name": "stdout"
        }
      ]
    },
    {
      "cell_type": "code",
      "metadata": {
        "id": "lP9vdYgX-cBB"
      },
      "source": [
        "# coding: utf-8\n",
        "# import subprocess\n",
        "\n",
        "import sys\n",
        "import os\n",
        "import numpy as np\n",
        "import json\n",
        "import pickle\n",
        "from datetime import datetime\n",
        "# import itertools\n",
        "import matplotlib.pyplot as plt\n",
        "import random\n",
        "\n",
        "# from making_2D_image_20191028 import load_data\n",
        "# from making_2D_image_20191028 import surf_figure, reduce_pkl_data\n",
        "\n",
        "# from common.simple_convnet import SimpleConvNet\n",
        "# from common.trainer import Trainer\n",
        "# from dataset.mnist import load_mnist\n",
        "# import matplotlib as mpl"
      ],
      "execution_count": 29,
      "outputs": []
    },
    {
      "cell_type": "code",
      "metadata": {
        "id": "Pij_2Q5sGnCY"
      },
      "source": [
        "import tensorflow as tf\n",
        "\n",
        "from tensorflow.python.keras.utils.vis_utils import plot_model\n",
        "\n",
        "from keras.utils import np_utils\n",
        "from keras.models import Sequential, Model\n",
        "from keras.layers import Dense, Flatten, Conv2D, MaxPooling2D, Dropout, Input\n",
        "from keras.callbacks import CSVLogger, EarlyStopping\n",
        "# from keras.datasets import mnist\n",
        "# from keras.layers import Activation, Dropout, Reshape, SeparableConv2D\n",
        "# from keras.callbacks import EarlyStopping\n",
        "\n",
        "# from file_operation import MAKE_DIR, COPY_FILES\n",
        "\n",
        "# sys.path.append(os.pardir)"
      ],
      "execution_count": 30,
      "outputs": []
    },
    {
      "cell_type": "code",
      "metadata": {
        "id": "uY2evR8cAO3h"
      },
      "source": [
        "def make_fig_one_pair_abs(x, sfolder, text=\"\"):\n",
        "    temp1 = np.random.randint(0, np.shape(x[0])[0], size=4)\n",
        "\n",
        "    n = len(x)\n",
        "    print(np.shape(x[0]))\n",
        "    fig = plt.figure()\n",
        "    for i, j in enumerate(temp1):\n",
        "        for k in range(n):\n",
        "            ax = fig.add_subplot(4, n, (n * i) + k + 1)\n",
        "            # ax.set_title(\"in\")\n",
        "            ax.set_xticks([], minor=False)\n",
        "            ax.set_yticks([], minor=False)\n",
        "            ax.imshow(np.abs(x[k][j, 0, :, :]))\n",
        "\n",
        "    file = sfolder + \"/\" + \"in_out_figs_\" + text + \"_\".join(str(temp1)) + \".png\"\n",
        "    print(file)\n",
        "    plt.savefig(file)\n",
        "    plt.close()"
      ],
      "execution_count": 76,
      "outputs": []
    },
    {
      "cell_type": "code",
      "metadata": {
        "id": "Ks2hMmkJKInn"
      },
      "source": [
        "def history_fig(history, file_train, sfolder):\n",
        "    epochs = range(len(history.history['accuracy']))\n",
        "    plt.figure(figsize=(10, 5))\n",
        "    plt.subplot(1, 2, 1)\n",
        "    plt.plot(epochs, history.history['accuracy'], label='training')\n",
        "    plt.plot(epochs, history.history['val_accuracy'], label='validation')\n",
        "    plt.title('accuracy')\n",
        "    plt.legend()\n",
        "    plt.subplot(1, 2, 2)\n",
        "    plt.plot(epochs, history.history['loss'], label='training')\n",
        "    plt.plot(epochs, history.history['val_loss'], label='validation')\n",
        "    plt.title('loss(MSE)')\n",
        "    plt.ylim([0, 0.05])\n",
        "    plt.legend()\n",
        "    plt.savefig(sfolder + \"/\" + os.path.basename(file_train).split(\".\")[0] + '.png')\n"
      ],
      "execution_count": 77,
      "outputs": []
    },
    {
      "cell_type": "code",
      "metadata": {
        "id": "JnFcQOUSKKo8"
      },
      "source": [
        "def save_model(model, file_train, sfolder):\n",
        "    file = sfolder + \"/\" + \"model_tree.png\"\n",
        "    print(\"save_file:\", file)\n",
        "    plot_model(model, to_file=file, show_shapes=True)\n",
        "    # model.summary()"
      ],
      "execution_count": 78,
      "outputs": []
    },
    {
      "cell_type": "code",
      "metadata": {
        "id": "ccrD2uHI_bb4"
      },
      "source": [
        "def reshape_complex(x, mode=\"abs_phase\", normalize=True):\n",
        "\n",
        "    if normalize:\n",
        "        x = x / np.max(np.abs(x))\n",
        "\n",
        "    if (\"complex\" in str(type(x[0, 0, 0, 0]))):\n",
        "        if mode == \"abs_phase\":\n",
        "            x = reshape_complex_to_abs_phase(x, axis=1)\n",
        "            if normalize:\n",
        "                x[:, 1, :, :] = (x[:, 1, :, :] + np.pi) / (2. * np.pi)\n",
        "        if mode == \"abs\":\n",
        "            x = np.abs(x)\n",
        "        if mode == \"real_imag\":\n",
        "            x = reshape_complex_to_real_imag(x, axis=1)\n",
        "    return x\n",
        "\n",
        "\n",
        "def reshape_complex_to_real_imag(x, axis=1):\n",
        "    \"\"\"RealとImag\"\"\"\n",
        "\n",
        "    return np.append(np.real(x), np.imag(x), axis=axis)\n",
        "\n",
        "\n",
        "def reshape_complex_to_abs_phase(x, axis=1):\n",
        "    \"\"\"絶対値と偏角\"\"\"\n",
        "\n",
        "    return np.append(np.abs(x), np.angle(x), axis=axis)"
      ],
      "execution_count": 79,
      "outputs": []
    },
    {
      "cell_type": "code",
      "metadata": {
        "id": "h3X6sEoK_Wy2"
      },
      "source": [
        "def load_data_2(file1, file2):\n",
        "\n",
        "    new_file = os.path.dirname(file1) + \"/\" \\\n",
        "        + os.path.basename(file1).split(\".\")[0] + \"_\" \\\n",
        "        + os.path.basename(file2).split(\".\")[0] + \"_\"\n",
        "\n",
        "    if not os.path.isfile(new_file):\n",
        "        print(\"make combined file: \", new_file)\n",
        "        new_file, data_num = combine_pkl_data(file1, file2, new_file)\n",
        "\n",
        "    print(\"load_data of input\", file1, file2)\n",
        "    print(\"load_data:\", new_file)\n",
        "\n",
        "    with open(new_file, \"rb\") as f:\n",
        "        data = pickle.load(f)\n",
        "\n",
        "    z1, z2, t = [], [], []\n",
        "\n",
        "    for d in data:\n",
        "        z1.append([d[\"z1\"]])\n",
        "        z2.append([d[\"z2\"]])\n",
        "        t.append([d[\"info\"]])\n",
        "\n",
        "    z1 = np.array(z1)\n",
        "    z2 = np.array(z2)\n",
        "    t = np.array(t)\n",
        "    return z1, z2, t, data_num"
      ],
      "execution_count": 80,
      "outputs": []
    },
    {
      "cell_type": "code",
      "metadata": {
        "id": "6eSRZmcD_a13"
      },
      "source": [
        "def load_data(*files):\n",
        "    # if len(files) == 1:\n",
        "    #     return load_data_1(files[0], num_data=num_data)\n",
        "    # elif len(files) == 2:\n",
        "    #     return load_data_2(files[0], files[1])\n",
        "    if len(files) == 2:\n",
        "        return load_data_2(files[0], files[1])\n",
        "    else:\n",
        "        print(\"No Two files!!\")\n",
        "        exit()"
      ],
      "execution_count": 81,
      "outputs": []
    },
    {
      "cell_type": "code",
      "metadata": {
        "id": "Vq4QJR2m_JfO"
      },
      "source": [
        "def combine_pkl_data(file1, file2, new_file):\n",
        "\n",
        "    with open(file1, \"rb\") as f:\n",
        "        detec_data = pickle.load(f)\n",
        "    with open(file2, \"rb\") as f:\n",
        "        mirror_data = pickle.load(f)\n",
        "\n",
        "    i = 0\n",
        "    data = []\n",
        "    for e_data in mirror_data[\"elip\"]:\n",
        "        row = {\n",
        "            \"info\": detec_data[i][\"info\"],\n",
        "            \"z1\": detec_data[i][\"z\"],\n",
        "            \"z2\": e_data[\"z\"]\n",
        "        }\n",
        "        i += 1\n",
        "        data.append(row)\n",
        "\n",
        "    for m_data in mirror_data[\"mode\"]:\n",
        "        row = {\n",
        "            \"info\": detec_data[i][\"info\"],\n",
        "            \"z1\": detec_data[i][\"z\"],\n",
        "            \"z2\": m_data[\"z\"]\n",
        "        }\n",
        "        i += 1\n",
        "        data.append(row)\n",
        "\n",
        "    new_file += str(i) + \".pkl\"\n",
        "\n",
        "    with open(new_file, 'wb') as f:\n",
        "        pickle.dump(data, f)\n",
        "\n",
        "    return new_file, i"
      ],
      "execution_count": 82,
      "outputs": []
    },
    {
      "cell_type": "code",
      "metadata": {
        "id": "EUgHStbJ_4xL"
      },
      "source": [
        "def regressin_CNN(x, y, xt, yt, sfolder, active_function=\"relu\"):\n",
        "    x = np.array(x)\n",
        "    y = np.array(y)\n",
        "    xt = np.array(xt)\n",
        "    yt = np.array(yt)\n",
        "\n",
        "    x = np.transpose(x, (0, 2, 3, 1))\n",
        "    xt = np.transpose(xt, (0, 2, 3, 1))\n",
        "    y = np.transpose(y, (0, 2, 3, 1))\n",
        "    yt = np.transpose(yt, (0, 2, 3, 1))\n",
        "\n",
        "    print(\"\")\n",
        "    print(\"check point 3\")\n",
        "    for s in [x, y, xt, yt]:\n",
        "        print(np.shape(s))\n",
        "\n",
        "    ydim = np.shape(y)\n",
        "    out_dim = ydim[1] * ydim[2] * ydim[3]\n",
        "    y = y.reshape(-1, out_dim)\n",
        "    yt = yt.reshape(-1, out_dim)\n",
        "\n",
        "    print(\"\")\n",
        "    print(\"check point 4\")\n",
        "    for s in [x, y, xt, yt]:\n",
        "        print(np.shape(s))\n",
        "        \n",
        "\n",
        "    model = Sequential()\n",
        "    model.add(Input(shape=(16, 16, 2)))\n",
        "    model.add(Conv2D(32, (3, 3), activation=\"relu\", padding=\"same\"))\n",
        "    # model.add(MaxPooling2D(pool_size=(2, 2)))\n",
        "    model.add(Conv2D(32, (3, 3), activation=\"relu\", padding=\"same\"))\n",
        "    \n",
        "    model.add(Flatten())\n",
        "\n",
        "    model.add(Dense(8192, activation=\"relu\"))\n",
        "    model.add(Dropout(0.25))\n",
        "    model.add(Dense(8192, activation=\"relu\"))\n",
        "    model.add(Dropout(0.25))\n",
        "\n",
        "    model.add(Dense(out_dim))\n",
        "\n",
        "    model.compile(optimizer='rmsprop',\n",
        "                  loss='mean_squared_error',\n",
        "                  metrics=['accuracy'])\n",
        "\n",
        "    history = model.fit(x=x,\n",
        "                        y=y,\n",
        "                        epochs=10,\n",
        "                        validation_data=(xt, yt),\n",
        "                        verbose=2,\n",
        "                        callbacks=[EarlyStopping(monitor=\"val_loss\", \n",
        "                                                 patience=20, \n",
        "                                                 verbose=1)]\n",
        "                        )\n",
        "    y_pred = model.predict(xt)\n",
        "\n",
        "    # print(history.history)\n",
        "\n",
        "    file = \"learning\"\n",
        "    history_fig(history, file, sfolder)\n",
        "    # save_history(history, file, sfolder)\n",
        "    save_model(model, file, sfolder)\n",
        "    # save_components_fit(yt, y_pred, sfolder)\n",
        "    # save_components_fit_9(yt, y_pred, sfolder)\n",
        "    epochs = len(history.history['accuracy'])\n",
        "\n",
        "    score = model.evaluate(x=xt, y=yt)\n",
        "    rmse_score = np.sqrt(np.mean((yt - y_pred) ** 2))\n",
        "    mae_score = np.mean(np.sqrt((yt - y_pred) ** 2))\n",
        "    print(\"test_MSE: \", score[0])\n",
        "    print(\"test_RMSE: \", rmse_score)\n",
        "    print(\"test_MAE: \", mae_score)\n",
        "    print(\"test_ACC: \", score[1])\n",
        "\n",
        "    return rmse_score, mae_score, score, y_pred, epochs"
      ],
      "execution_count": 83,
      "outputs": []
    },
    {
      "cell_type": "code",
      "metadata": {
        "id": "mJcn6zFk-0iT"
      },
      "source": [
        "def main_regression_CNN_learn(detec_train, mirror_train, detec_test, mirror_test, \n",
        "                              sfolder, active_function, reshape_type):\n",
        "    x, y, _, train_num = load_data(detec_train, mirror_train)\n",
        "    xt, yt, _, test_num = load_data(detec_test, mirror_test)\n",
        "\n",
        "    print(\"\")\n",
        "    print(\"check point 1\")\n",
        "    for s in [x, y, xt, yt]:\n",
        "        print(np.shape(s))\n",
        "\n",
        "    x = reshape_complex(x, mode=reshape_type, normalize=True)\n",
        "    y = reshape_complex(y, mode=reshape_type, normalize=True)\n",
        "    xt = reshape_complex(xt, mode=reshape_type, normalize=True)\n",
        "    yt = reshape_complex(yt, mode=reshape_type, normalize=True)\n",
        "\n",
        "    print(\"\")\n",
        "    print(\"check point 2\")\n",
        "    for s in [x, y, xt, yt]:\n",
        "        print(np.shape(s))\n",
        "\n",
        "    rmse_score, mae_score, score, y_pred, epochs = regressin_CNN(x, y, xt, yt, sfolder,\n",
        "                                                                active_function)\n",
        "\n",
        "    y_pred_2d = y_pred.reshape(-1, 1, np.shape(yt)[2], np.shape(yt)[3])\n",
        "\n",
        "    for i in range(10):\n",
        "        make_fig_one_pair_abs((xt, yt, y_pred_2d), sfolder, \"pred\")\n",
        "    \n",
        "    file = sfolder + \"/output.json\"\n",
        "    with open(file, \"w\") as f:\n",
        "        memo = {\n",
        "                \"train_data_num\": str(train_num),\n",
        "                \"test_data_num\": str(test_num),\n",
        "                \"epochs\": str(epochs),\n",
        "                \"test_MSE\": str(score[0]),\n",
        "                \"test_RMSE\": str(rmse_score),\n",
        "                \"test_MAE\": str(mae_score),\n",
        "                \"test_ACC\": str(score[1]),\n",
        "                \"active_func\": str(active_function),\n",
        "                \"reshape_type\": str(reshape_type)\n",
        "                }\n",
        "        json.dump(memo, f, indent=4)"
      ],
      "execution_count": 84,
      "outputs": []
    },
    {
      "cell_type": "code",
      "metadata": {
        "id": "4zxc8uxXJWw-"
      },
      "source": [
        "def seed_everything(seed=42):\n",
        "    random.seed(seed)\n",
        "    os.environ['PYTHONHASHSEED'] = str(seed)\n",
        "    np.random.seed(seed)\n",
        "    tf.random.set_seed(seed)\n",
        "    session_conf = tf.compat.v1.ConfigProto(\n",
        "        intra_op_parallelism_threads=1,\n",
        "        inter_op_parallelism_threads=1\n",
        "    )\n",
        "    sess = tf.compat.v1.Session(graph=tf.compat.v1.get_default_graph(), config=session_conf)\n",
        "    tf.compat.v1.keras.backend.set_session(sess)"
      ],
      "execution_count": 85,
      "outputs": []
    },
    {
      "cell_type": "code",
      "metadata": {
        "id": "EbpcgbGD-Sml"
      },
      "source": [
        "def main(data_folder, active_function, reshape_type):\n",
        "    strtime = datetime.now().strftime(\"%Y%m%d%H%M\" + \"-\" + \"%S\")\n",
        "    print(\"\")\n",
        "    print(\"time=\", strtime)\n",
        "\n",
        "    # 保存フォルダの指定,時刻がフォルダの名前になる\n",
        "    if not data_folder:\n",
        "        os.makedirs(strtime)\n",
        "        sfolder = strtime\n",
        "    else:\n",
        "        sfolder = data_folder + \"/\" + strtime\n",
        "        os.makedirs(sfolder)\n",
        "\n",
        "    mirror_train = data_folder + \"/\" + \"mirror_train_data.pkl\"\n",
        "    detec_train = data_folder + \"/\" + \"detec_train_data.pkl\"\n",
        "\n",
        "    mirror_test = data_folder + \"/\" + \"mirror_test_data.pkl\"\n",
        "    detec_test = data_folder + \"/\" + \"detec_test_data.pkl\"\n",
        "\n",
        "    # main_make_figs(file_train_x,file_train_y,sfolder,num_data=num_data)\n",
        "\n",
        "    # main_learn(file_train_x,file_test,sfolder,num_data)\n",
        "    \n",
        "    # main_regression_learn(file_train_x,file_train_y,\n",
        "    #                       file_test_x, file_test_y,\n",
        "    #                       sfolder,num_data=num_data)\n",
        "\n",
        "    seed_everything(43)\n",
        "\n",
        "    main_regression_CNN_learn(detec_train, mirror_train,\n",
        "                              detec_test, mirror_test, sfolder,\n",
        "                              active_function, reshape_type)"
      ],
      "execution_count": 86,
      "outputs": []
    },
    {
      "cell_type": "code",
      "metadata": {
        "id": "e5_PRT0n-lPV",
        "outputId": "de2f8d5b-d7dd-4287-fa70-c18ec4566cb2",
        "colab": {
          "base_uri": "https://localhost:8080/",
          "height": 1000
        }
      },
      "source": [
        "folder = \"result/2020_0925_164455_implement_gaussian\"\n",
        "active_function=\"relu\"\n",
        "reshape_type='real_imag'\n",
        "\n",
        "main(folder, active_function, reshape_type)"
      ],
      "execution_count": 87,
      "outputs": [
        {
          "output_type": "stream",
          "text": [
            "\n",
            "time= 202010221315-53\n",
            "make combined file:  result/2020_0925_164455_implement_gaussian/detec_train_data_mirror_train_data_\n",
            "load_data of input result/2020_0925_164455_implement_gaussian/detec_train_data.pkl result/2020_0925_164455_implement_gaussian/mirror_train_data.pkl\n",
            "load_data: result/2020_0925_164455_implement_gaussian/detec_train_data_mirror_train_data_5000.pkl\n",
            "make combined file:  result/2020_0925_164455_implement_gaussian/detec_test_data_mirror_test_data_\n",
            "load_data of input result/2020_0925_164455_implement_gaussian/detec_test_data.pkl result/2020_0925_164455_implement_gaussian/mirror_test_data.pkl\n",
            "load_data: result/2020_0925_164455_implement_gaussian/detec_test_data_mirror_test_data_100.pkl\n",
            "\n",
            "check point 1\n",
            "(5000, 1, 16, 16)\n",
            "(5000, 1, 64, 64)\n",
            "(100, 1, 16, 16)\n",
            "(100, 1, 64, 64)\n",
            "\n",
            "check point 2\n",
            "(5000, 2, 16, 16)\n",
            "(5000, 1, 64, 64)\n",
            "(100, 2, 16, 16)\n",
            "(100, 1, 64, 64)\n",
            "\n",
            "check point 3\n",
            "(5000, 16, 16, 2)\n",
            "(5000, 64, 64, 1)\n",
            "(100, 16, 16, 2)\n",
            "(100, 64, 64, 1)\n",
            "\n",
            "check point 4\n",
            "(5000, 16, 16, 2)\n",
            "(5000, 4096)\n",
            "(100, 16, 16, 2)\n",
            "(100, 4096)\n",
            "Epoch 1/10\n",
            "WARNING:tensorflow:Callbacks method `on_train_batch_end` is slow compared to the batch time (batch time: 0.0078s vs `on_train_batch_end` time: 0.0283s). Check your callbacks.\n",
            "157/157 - 6s - loss: 0.0504 - accuracy: 0.0018 - val_loss: 0.0377 - val_accuracy: 0.0000e+00\n",
            "Epoch 2/10\n",
            "157/157 - 6s - loss: 0.0210 - accuracy: 0.0066 - val_loss: 0.0323 - val_accuracy: 0.0000e+00\n",
            "Epoch 3/10\n",
            "157/157 - 6s - loss: 0.0163 - accuracy: 0.0102 - val_loss: 0.0196 - val_accuracy: 0.0100\n",
            "Epoch 4/10\n",
            "157/157 - 6s - loss: 0.0136 - accuracy: 0.0122 - val_loss: 0.0150 - val_accuracy: 0.0200\n",
            "Epoch 5/10\n",
            "157/157 - 6s - loss: 0.0120 - accuracy: 0.0150 - val_loss: 0.0170 - val_accuracy: 0.0300\n",
            "Epoch 6/10\n",
            "157/157 - 6s - loss: 0.0108 - accuracy: 0.0170 - val_loss: 0.0134 - val_accuracy: 0.0300\n",
            "Epoch 7/10\n",
            "157/157 - 6s - loss: 0.0099 - accuracy: 0.0152 - val_loss: 0.0174 - val_accuracy: 0.0400\n",
            "Epoch 8/10\n",
            "157/157 - 6s - loss: 0.0092 - accuracy: 0.0164 - val_loss: 0.0129 - val_accuracy: 0.0100\n",
            "Epoch 9/10\n",
            "157/157 - 6s - loss: 0.0087 - accuracy: 0.0180 - val_loss: 0.0129 - val_accuracy: 0.0200\n",
            "Epoch 10/10\n",
            "157/157 - 6s - loss: 0.0081 - accuracy: 0.0212 - val_loss: 0.0099 - val_accuracy: 0.0200\n",
            "save_file: result/2020_0925_164455_implement_gaussian/202010221315-53/model_tree.png\n",
            "4/4 [==============================] - 0s 4ms/step - loss: 0.0099 - accuracy: 0.0200\n",
            "test_MSE:  0.009905779734253883\n",
            "test_RMSE:  0.09952778030801547\n",
            "test_MAE:  0.05973361682457779\n",
            "test_ACC:  0.019999999552965164\n",
            "(100, 2, 16, 16)\n",
            "result/2020_0925_164455_implement_gaussian/202010221315-53/in_out_figs_pred[_6_8_ _6_4_ _4_9_ _2_1_].png\n",
            "(100, 2, 16, 16)\n",
            "result/2020_0925_164455_implement_gaussian/202010221315-53/in_out_figs_pred[_5_8_ _1_6_ _5_1_ _1_7_].png\n",
            "(100, 2, 16, 16)\n",
            "result/2020_0925_164455_implement_gaussian/202010221315-53/in_out_figs_pred[_5_9_ _9_1_ _6_6_ _3_0_].png\n",
            "(100, 2, 16, 16)\n",
            "result/2020_0925_164455_implement_gaussian/202010221315-53/in_out_figs_pred[_8_7_ _6_4_ _3_5_ _5_0_].png\n",
            "(100, 2, 16, 16)\n",
            "result/2020_0925_164455_implement_gaussian/202010221315-53/in_out_figs_pred[_7_5_ _8_9_ _6_5_ _3_4_].png\n",
            "(100, 2, 16, 16)\n",
            "result/2020_0925_164455_implement_gaussian/202010221315-53/in_out_figs_pred[_7_5_ _6_6_ _9_9_ _ _4_].png\n",
            "(100, 2, 16, 16)\n",
            "result/2020_0925_164455_implement_gaussian/202010221315-53/in_out_figs_pred[_3_6_ _7_6_ _8_8_ _4_7_].png\n",
            "(100, 2, 16, 16)\n",
            "result/2020_0925_164455_implement_gaussian/202010221315-53/in_out_figs_pred[_3_2_ _7_4_ _6_0_ _7_3_].png\n",
            "(100, 2, 16, 16)\n",
            "result/2020_0925_164455_implement_gaussian/202010221315-53/in_out_figs_pred[_3_4_ _4_8_ _5_2_ _6_8_].png\n",
            "(100, 2, 16, 16)\n",
            "result/2020_0925_164455_implement_gaussian/202010221315-53/in_out_figs_pred[_2_8_ _7_3_ _ _7_ _6_1_].png\n"
          ],
          "name": "stdout"
        },
        {
          "output_type": "display_data",
          "data": {
            "image/png": "[encoded data removed]",
            "text/plain": [
              "<Figure size 720x360 with 2 Axes>"
            ]
          },
          "metadata": {
            "tags": [],
            "needs_background": "light"
          }
        }
      ]
    },
    {
      "cell_type": "code",
      "metadata": {
        "id": "m5tHvuvXCcrp"
      },
      "source": [
        ""
      ],
      "execution_count": null,
      "outputs": []
    }
  ]
}