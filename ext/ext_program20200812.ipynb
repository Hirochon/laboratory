{
 "cells": [
  {
   "cell_type": "code",
   "execution_count": 16,
   "metadata": {},
   "outputs": [],
   "source": [
    "import numpy as np\n",
    "import random\n",
    "from matplotlib import pyplot as plt\n",
    "%matplotlib inline"
   ]
  },
  {
   "cell_type": "code",
   "execution_count": 17,
   "metadata": {},
   "outputs": [],
   "source": [
    "def ellipse(x, a, b):\n",
    "    y = b * np.sqrt(1 - (np.power(x, 2) / np.power(a, 2)))\n",
    "    return y"
   ]
  },
  {
   "cell_type": "code",
   "execution_count": 18,
   "metadata": {},
   "outputs": [],
   "source": [
    "def ellipse2():\n",
    "    a = 3 * random.random()                                 # 楕円方程式のa\n",
    "    b = 3 * random.random()                                 # 楕円方程式のb\n",
    "    t = np.linspace(-1 * np.pi, np.pi, 100) # －π～πまでの範囲\n",
    "    phase = np.pi / 2                       # 位相\n",
    "    x = a * np.sin(t - phase)               # 1周期分の正弦波を作成\n",
    "    g = np.gradient(x)                      # xの勾配を計算  \n",
    "\n",
    "    y = []\n",
    "    for i in range(len(g)):\n",
    "        y = np.append(y, ellipse(x[i], a, b))\n",
    "        if i == 0:\n",
    "            pass\n",
    "        elif np.sign(g[i-1]) == np.sign(g[i]):\n",
    "            pass\n",
    "        else:\n",
    "            y = -1 * y\n",
    "\n",
    "    return x,y,a,b"
   ]
  },
  {
   "cell_type": "code",
   "execution_count": 19,
   "metadata": {},
   "outputs": [
    {
     "name": "stdout",
     "output_type": "stream",
     "text": [
      "( 0 0 ) z = 0\n",
      "( 0 -1 ) z = 0\n",
      "( 0 -2 ) z = 0\n",
      "( 0 -3 ) z = 0\n",
      "( 0 -4 ) z = 0\n",
      "( 0 -5 ) z = 0\n",
      "( 0 -6 ) z = 0\n",
      "( 0 -7 ) z = 0\n",
      "( 0 -8 ) z = 0\n",
      "( 0 -9 ) z = 0\n",
      "( -1 0 ) z = 0\n",
      "( -1 -1 ) z = 0\n",
      "( -1 -2 ) z = 0\n",
      "( -1 -3 ) z = 0\n",
      "( -1 -4 ) z = 0\n",
      "( -1 -5 ) z = 0\n",
      "( -1 -6 ) z = 0\n",
      "( -1 -7 ) z = 0\n",
      "( -1 -8 ) z = 0\n",
      "( -1 -9 ) z = 0\n",
      "( -2 0 ) z = 0\n",
      "( -2 -1 ) z = 1\n",
      "( -2 -2 ) z = 0\n",
      "( -2 -3 ) z = 0\n",
      "( -2 -4 ) z = 0\n",
      "( -2 -5 ) z = 0\n",
      "( -2 -6 ) z = 0\n",
      "( -2 -7 ) z = 0\n",
      "( -2 -8 ) z = 0\n",
      "( -2 -9 ) z = 0\n",
      "( -3 0 ) z = 0\n",
      "( -3 -1 ) z = 0\n",
      "( -3 -2 ) z = 0\n",
      "( -3 -3 ) z = 0\n",
      "( -3 -4 ) z = 0\n",
      "( -3 -5 ) z = 0\n",
      "( -3 -6 ) z = 0\n",
      "( -3 -7 ) z = 0\n",
      "( -3 -8 ) z = 0\n",
      "( -3 -9 ) z = 0\n",
      "( -4 0 ) z = 0\n",
      "( -4 -1 ) z = 0\n",
      "( -4 -2 ) z = 0\n",
      "( -4 -3 ) z = 0\n",
      "( -4 -4 ) z = 0\n",
      "( -4 -5 ) z = 1\n",
      "( -4 -6 ) z = 0\n",
      "( -4 -7 ) z = 0\n",
      "( -4 -8 ) z = 0\n",
      "( -4 -9 ) z = 0\n",
      "( -5 0 ) z = 0\n",
      "( -5 -1 ) z = 0\n",
      "( -5 -2 ) z = 0\n",
      "( -5 -3 ) z = 0\n",
      "( -5 -4 ) z = 0\n",
      "( -5 -5 ) z = 0\n",
      "( -5 -6 ) z = 0\n",
      "( -5 -7 ) z = 0\n",
      "( -5 -8 ) z = 0\n",
      "( -5 -9 ) z = 0\n",
      "( -6 0 ) z = 0\n",
      "( -6 -1 ) z = 0\n",
      "( -6 -2 ) z = 0\n",
      "( -6 -3 ) z = 0\n",
      "( -6 -4 ) z = 0\n",
      "( -6 -5 ) z = 0\n",
      "( -6 -6 ) z = 1\n",
      "( -6 -7 ) z = 0\n",
      "( -6 -8 ) z = 0\n",
      "( -6 -9 ) z = 0\n",
      "( -7 0 ) z = 0\n",
      "( -7 -1 ) z = 0\n",
      "( -7 -2 ) z = 0\n",
      "( -7 -3 ) z = 0\n",
      "( -7 -4 ) z = 0\n",
      "( -7 -5 ) z = 0\n",
      "( -7 -6 ) z = 0\n",
      "( -7 -7 ) z = 0\n",
      "( -7 -8 ) z = 0\n",
      "( -7 -9 ) z = 0\n",
      "( -8 0 ) z = 0\n",
      "( -8 -1 ) z = 0\n",
      "( -8 -2 ) z = 0\n",
      "( -8 -3 ) z = 0\n",
      "( -8 -4 ) z = 0\n",
      "( -8 -5 ) z = 0\n",
      "( -8 -6 ) z = 0\n",
      "( -8 -7 ) z = 1\n",
      "( -8 -8 ) z = 0\n",
      "( -8 -9 ) z = 0\n",
      "( -9 0 ) z = 0\n",
      "( -9 -1 ) z = 0\n",
      "( -9 -2 ) z = 0\n",
      "( -9 -3 ) z = 0\n",
      "( -9 -4 ) z = 0\n",
      "( -9 -5 ) z = 0\n",
      "( -9 -6 ) z = 0\n",
      "( -9 -7 ) z = 0\n",
      "( -9 -8 ) z = 0\n",
      "( -9 -9 ) z = 0\n"
     ]
    },
    {
     "data": {
      "image/png": "[encoded data removed]",
      "text/plain": [
       "<Figure size 432x288 with 1 Axes>"
      ]
     },
     "metadata": {
      "needs_background": "light"
     },
     "output_type": "display_data"
    }
   ],
   "source": [
    "x_all=[]\n",
    "y_all=[]\n",
    "\n",
    "x_hennka=[]\n",
    "y_hennka=[]\n",
    "\n",
    "s = 0\n",
    "t = 0\n",
    "\n",
    "fig = plt.figure()\n",
    "ax1 = fig.add_subplot(111)\n",
    "x,y,a,b=ellipse2()\n",
    "\n",
    "for s in range(10):\n",
    "    for t in range(10):\n",
    "        print(\"(\",  -s, -t , \")\"   ,end = \" \".format(s, t))    #8/5より書き換えました。   \n",
    "#        print('{0},{1}'.format(s, t))\n",
    "        target=[-s,-t]\n",
    "        target_x=target[0]\n",
    "        target_y=target[1]\n",
    "        \n",
    "        P=[]\n",
    "\n",
    "        l=random.sample(list(range(1, 10)), k=9)\n",
    "        \n",
    "\n",
    "        for i in range(l[0]): \n",
    "#            x,y,a,b=ellipse2()\n",
    "            x_all.append(x)\n",
    "            y_all.append(y)\n",
    "            x_hennka_now=random.random()*10\n",
    "            y_hennka_now=random.random()*10\n",
    "            x_hennka.append(x_hennka_now)\n",
    "            y_hennka.append(y_hennka_now)\n",
    "            p_now=(target_x+x_hennka_now)**2/(a**2)+(target_y+x_hennka_now)**2/(b**2)-1\n",
    "            p_now= p_now<=0\n",
    "            P.append(p_now)\n",
    "    \n",
    "\n",
    "\n",
    "        \n",
    "        z = 0\n",
    "        for i in range(l[0]):\n",
    "            if str(P[i]) == \"True\":\n",
    "                z = z + 1\n",
    "        if z > 0:\n",
    "            print(\"z = 1\")\n",
    "        else:\n",
    "            print(\"z = 0\")    "
   ]
  },
  {
   "cell_type": "code",
   "execution_count": 20,
   "metadata": {},
   "outputs": [
    {
     "name": "stdout",
     "output_type": "stream",
     "text": [
      "\n"
     ]
    }
   ],
   "source": [
    "print()\n",
    "#ax1.plot(target_x,target_y,marker=\".\")\n",
    "#plt.show"
   ]
  },
  {
   "cell_type": "code",
   "execution_count": 21,
   "metadata": {},
   "outputs": [],
   "source": [
    "# データプロットの準備とともに、ラベルと線の太さ、凡例の設置を行う。\n",
    "for j in range(len(x_all)):\n",
    "    ax1.plot(x_all[j]-x_hennka[j], y_all[j]-y_hennka[j], label='ellipse', lw=1)\n",
    "    ax1.plot(target_x,target_y,marker=\".\")\n",
    "    \n",
    "    ax1.set_aspect('equal')\n",
    "    fig.tight_layout()\n",
    "\n",
    "\n",
    "# グラフを表示する。\n",
    "\n",
    "plt.show()\n",
    "#plt.close()"
   ]
  },
  {
   "cell_type": "code",
   "execution_count": null,
   "metadata": {},
   "outputs": [],
   "source": []
  },
  {
   "cell_type": "code",
   "execution_count": null,
   "metadata": {},
   "outputs": [],
   "source": []
  },
  {
   "cell_type": "code",
   "execution_count": null,
   "metadata": {},
   "outputs": [],
   "source": []
  }
 ],
 "metadata": {
  "kernelspec": {
   "display_name": "Python 3",
   "language": "python",
   "name": "python3"
  },
  "language_info": {
   "codemirror_mode": {
    "name": "ipython",
    "version": 3
   },
   "file_extension": ".py",
   "mimetype": "text/x-python",
   "name": "python",
   "nbconvert_exporter": "python",
   "pygments_lexer": "ipython3",
   "version": "3.7.6"
  }
 },
 "nbformat": 4,
 "nbformat_minor": 4
}
